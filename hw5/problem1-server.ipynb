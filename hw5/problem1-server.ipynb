{
 "metadata": {
  "name": ""
 },
 "nbformat": 3,
 "nbformat_minor": 0,
 "worksheets": [
  {
   "cells": [
    {
     "cell_type": "markdown",
     "metadata": {},
     "source": [
      "#AY250 HW5 Problem 1 SERVER | Joseph Curtis\n",
      "\n",
      "###Write an XML-RPC server/client program pair.\n",
      "\n",
      "- The server offers 3 methods providing lossless image manipulation (be creative). Each server method must have descriptive documentation accessible by the client.\n",
      "- The client calls each method on the server machine with an array from an image.\n",
      "- Client saves the original image and modified image received from the server. Server saves image received from the client and modified image.\n",
      "- Include example images in your solutions, and test by running this through your local loopback ip address. If you\u2019d like to test from a remote computer, come to office hours on Monday and we will be set up to test your program over the network.\n",
      "- localhost ip = 127.0.0.1\n",
      "- http://docs.python.org/2/library/simplexmlrpcserver.html\n",
      "\n",
      "###Hints\n",
      "\n",
      "- Be creative with the server methods, but make sure the operations can be explained simply in English.\n",
      "- An example might be to switch color channels and reverse the order of the values in one channel.\n",
      "- Make sure to think about properly dealing with differently shaped image arrays (methods should be compatible with both 3-color and grayscale).\n",
      "- Lastly, XMLRPC won\u2019t transmit arrays, so you\u2019ll have to convert to another data structure.\n",
      "\n",
      "###Notes:\n",
      "\n",
      "- I implemented a class to run image manipulation effectively. The server itself runs independently but starts an instance of the class which allows me to create object attributes and methods to use between many functions for saving, change array type, etc.\n",
      "- You have to run both cells for the server to run continuously.\n",
      "- To kill the server: Keyboard Interrupt. This closes the server connection so you don't have to restart the entire kernel everytime."
     ]
    },
    {
     "cell_type": "code",
     "collapsed": false,
     "input": [
      "from __future__ import print_function\n",
      "import SimpleXMLRPCServer\n",
      "from scipy import ndimage\n",
      "%pylab inline\n",
      "\n",
      "host, port = \"\", 5020\n",
      "\n",
      "class Image_Manipulation(object):\n",
      "    \n",
      "    def __init__(self):\n",
      "        self._imList_ = []\n",
      "        self._imArray_ = array([])\n",
      "    \n",
      "    def _imPack_(self):\n",
      "        '''\n",
      "        Takes the image imArray attribute in numpy array form and \n",
      "        sets the imList attribute as a list for xmlrpc transfer.\n",
      "        '''\n",
      "        self._imList_ = self._imArray_.tolist()\n",
      "        print('    Saving modified image as {:s}'.format('server_mod_'+self._imName_))\n",
      "        imsave('server_mod_'+self._imName_,self._imArray_,format='png')\n",
      "    \n",
      "    def _imUnpack_(self,imList,imName):\n",
      "        '''\n",
      "        Take the image imList in list form from xmlrpc transfer and \n",
      "        sets the imArray attribute as a numpy array. The shape of the\n",
      "        numpy array is stored as an attribute. imName is the image name\n",
      "        from the client which is stored as an attribute and used to save\n",
      "        the file on the server.\n",
      "        '''\n",
      "        self._imArray_ = array(imList)\n",
      "        self._imShape_ = self._imArray_.shape\n",
      "        self._imName_ = imName\n",
      "        print('    Saving original image as {:s}'.format('server_orig_'+self._imName_))\n",
      "        imsave('server_orig_'+self._imName_,self._imArray_,format='png')\n",
      "   \n",
      "    def blur(self,imList,imName):\n",
      "        '''\n",
      "        Performs Guassian blurring on the image with a guassian kernel of size\n",
      "        0.5% of the maximum pixel dimension using the ndimage module.\n",
      "        \n",
      "        imName is an image name which the server will use to save the file.\n",
      "        '''\n",
      "        print('Image recieved for blurring. Processing...')\n",
      "        self._imUnpack_(imList,imName)\n",
      "        self._imArray_ = ndimage.gaussian_filter(self._imArray_,sigma=round(max(self._imArray_.shape)*5e-3))\n",
      "        print('    Image processing completed.')\n",
      "        self._imPack_()\n",
      "        print('    Sending to client...')\n",
      "        return self._imList_\n",
      "    \n",
      "    def swapColorAndDirections(self,imList,imName):\n",
      "        '''\n",
      "        Shifts each color channel to the next one:\n",
      "            Red   -> Green\n",
      "            Green -> Blue\n",
      "            Blue  -> Red\n",
      "        Flips the image on the x axis (left/right).\n",
      "        \n",
      "        NOTE: If the image is greyscale, only the x axis is flipped \n",
      "        since there are no color channels to swap.\n",
      "        \n",
      "        imName is an image name which the server will use to save the file.\n",
      "        '''\n",
      "        print('Image recieved for color channel swapping. Processing...')\n",
      "        self._imUnpack_(imList,imName)\n",
      "        if len(self._imShape_) == 3:\n",
      "            imTemp = zeros_like(self._imArray_)\n",
      "            imTemp[...,1] = self._imArray_[...,0] #R -> G\n",
      "            imTemp[...,2] = self._imArray_[...,1] #G -> B\n",
      "            imTemp[...,0] = self._imArray_[...,2] #B -> R\n",
      "            self._imArray_ = imTemp[:,::-1,:] #flip left right\n",
      "        elif len(self._imShape_) == 2:\n",
      "            self._imArray_ = self._imArray_[:,::-1] #flip left right\n",
      "        else:\n",
      "            raise ValueError('Image array is not shaped correctly.')\n",
      "        print('    Image processing completed.')\n",
      "        self._imPack_()\n",
      "        print('    Sending to client...')\n",
      "        return self._imList_\n",
      "    \n",
      "    def vignette(self,imList,imName):\n",
      "        '''\n",
      "        Performs vignetting to the image using a mask (with the center bright) \n",
      "        for pixel burning using the magnitude of the Euclidian distance from \n",
      "        the center of the image as the mask value. The mask is then normalized\n",
      "        and multiplied by each color channel (only one if greyscale).\n",
      "        \n",
      "        imName is an image name which the server will use to save the file.\n",
      "        '''\n",
      "        print('Image recieved for vignette application. Processing...')\n",
      "        self._imUnpack_(imList,imName)\n",
      "        imTemp = self._imArray_\n",
      "        pxHeight = self._imShape_[0]\n",
      "        pxWidth  = self._imShape_[1]\n",
      "        #center of image pixel array\n",
      "        pxHeightHalf = floor(pxHeight/2)\n",
      "        pxWidthHalf = floor(pxWidth/2)\n",
      "        #build mask (center dark) for pixel burning using the magnitude of \n",
      "        #Euclidian distance from the center of the image. I had to be \n",
      "        #careful of data types here becuase I got overflow with int8's.\n",
      "        #Thus I set the Mask dtype to float.\n",
      "        imMask = zeros_like(imTemp, dtype=float)\n",
      "        for y in range(pxHeight):\n",
      "            for x in range(pxWidth):\n",
      "                px = sqrt((pxHeightHalf-y)**2+(pxWidthHalf-x)**2)\n",
      "                if self._imShape_ == 3:\n",
      "                    imMask[y,x,0] = px\n",
      "                    imMask[y,x,1] = px\n",
      "                    imMask[y,x,2] = px\n",
      "                else:\n",
      "                    imMask[y,x] = px\n",
      "        #inverse mask (center bright) and normalize\n",
      "        imMaskNorm = 1-imMask/imMask.max()\n",
      "        imTempMasked = imTemp\n",
      "        #apply mask to every layer\n",
      "        if self._imShape_ == 3:\n",
      "            for i in range(3):\n",
      "                imTempMasked[...,i] = imTemp[...,i]*imMaskNorm[...,i]\n",
      "        else:\n",
      "            imTempMasked = imTemp*imMaskNorm\n",
      "        self._imArray_ = imTempMasked\n",
      "        print('    Image processing completed.')\n",
      "        self._imPack_()\n",
      "        print('    Sending to client...')\n",
      "        return self._imList_\n",
      "\n",
      "#Creates server instance at host and port. Logs are supressed from stdout.\n",
      "server = SimpleXMLRPCServer.SimpleXMLRPCServer((host, port), allow_none=True, logRequests=False)\n",
      "server.register_instance(Image_Manipulation()) #image manipulations\n",
      "server.register_multicall_functions()\n",
      "server.register_introspection_functions()\n",
      "print(\"XMLRPC Server is starting at:\",host,port)\n"
     ],
     "language": "python",
     "metadata": {},
     "outputs": [
      {
       "output_type": "stream",
       "stream": "stdout",
       "text": [
        "Populating the interactive namespace from numpy and matplotlib\n",
        "XMLRPC Server is starting at:  5020\n"
       ]
      }
     ],
     "prompt_number": 2
    },
    {
     "cell_type": "code",
     "collapsed": false,
     "input": [
      "#keep serving forever until keyboard interrupt\n",
      "try:\n",
      "    server.serve_forever()\n",
      "except KeyboardInterrupt:\n",
      "    server.server_close()\n",
      "    print(\"\")\n",
      "    print(\"You interrupted, server closing.\")"
     ],
     "language": "python",
     "metadata": {},
     "outputs": [
      {
       "output_type": "stream",
       "stream": "stdout",
       "text": [
        "Image recieved for blurring. Processing...\n",
        "    Saving original image as server_orig_image0.png"
       ]
      },
      {
       "output_type": "stream",
       "stream": "stdout",
       "text": [
        "\n",
        "    Image processing completed."
       ]
      },
      {
       "output_type": "stream",
       "stream": "stdout",
       "text": [
        "\n",
        "    Saving modified image as server_mod_image0.png"
       ]
      },
      {
       "output_type": "stream",
       "stream": "stdout",
       "text": [
        "\n",
        "    Sending to client..."
       ]
      },
      {
       "output_type": "stream",
       "stream": "stdout",
       "text": [
        "\n",
        "Image recieved for color channel swapping. Processing..."
       ]
      },
      {
       "output_type": "stream",
       "stream": "stdout",
       "text": [
        "\n",
        "    Saving original image as server_orig_image1.png"
       ]
      },
      {
       "output_type": "stream",
       "stream": "stdout",
       "text": [
        "\n",
        "    Image processing completed."
       ]
      },
      {
       "output_type": "stream",
       "stream": "stdout",
       "text": [
        "\n",
        "    Saving modified image as server_mod_image1.png"
       ]
      },
      {
       "output_type": "stream",
       "stream": "stdout",
       "text": [
        "\n",
        "    Sending to client..."
       ]
      },
      {
       "output_type": "stream",
       "stream": "stdout",
       "text": [
        "\n",
        "Image recieved for vignette application. Processing..."
       ]
      },
      {
       "output_type": "stream",
       "stream": "stdout",
       "text": [
        "\n",
        "    Saving original image as server_orig_image2.png"
       ]
      },
      {
       "output_type": "stream",
       "stream": "stdout",
       "text": [
        "\n",
        "    Image processing completed."
       ]
      },
      {
       "output_type": "stream",
       "stream": "stdout",
       "text": [
        "\n",
        "    Saving modified image as server_mod_image2.png"
       ]
      },
      {
       "output_type": "stream",
       "stream": "stdout",
       "text": [
        "\n",
        "    Sending to client..."
       ]
      },
      {
       "output_type": "stream",
       "stream": "stdout",
       "text": [
        "\n"
       ]
      },
      {
       "output_type": "stream",
       "stream": "stdout",
       "text": [
        "\n",
        "You interrupted, server closing.\n"
       ]
      }
     ],
     "prompt_number": 3
    },
    {
     "cell_type": "code",
     "collapsed": false,
     "input": [],
     "language": "python",
     "metadata": {},
     "outputs": []
    }
   ],
   "metadata": {}
  }
 ]
}
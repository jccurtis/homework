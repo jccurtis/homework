{
 "metadata": {
  "name": ""
 },
 "nbformat": 3,
 "nbformat_minor": 0,
 "worksheets": [
  {
   "cells": [
    {
     "cell_type": "markdown",
     "metadata": {},
     "source": [
      "#AY250 HW5 Problem 1 SERVER\n",
      "\n",
      "###Write an XML-RPC server/client program pair.\n",
      "\n",
      "- The server offers 3 methods providing lossless image manipulation (be creative). Each server method must have descriptive documentation accessible by the client.\n",
      "- The client calls each method on the server machine with an array from an image.\n",
      "- Client saves the original image and modified image received from the server. Server saves image received from the client and modified image.\n",
      "- Include example images in your solutions, and test by running this through your local loopback ip address. If you\u2019d like to test from a remote computer, come to office hours on Monday and we will be set up to test your program over the network.\n",
      "- localhost ip = 127.0.0.1\n",
      "- http://docs.python.org/2/library/simplexmlrpcserver.html\n",
      "\n",
      "###Hints\n",
      "\n",
      "- Be creative with the server methods, but make sure the operations can be explained simply in English.\n",
      "- An example might be to switch color channels and reverse the order of the values in one channel.\n",
      "- Make sure to think about properly dealing with differently shaped image arrays (methods should be compatible with both 3-color and grayscale).\n",
      "- Lastly, XMLRPC won\u2019t transmit arrays, so you\u2019ll have to convert to another data structure."
     ]
    },
    {
     "cell_type": "code",
     "collapsed": false,
     "input": [
      "from __future__ import print_function\n",
      "import SimpleXMLRPCServer\n",
      "from scipy import ndimage\n",
      "%pylab\n",
      "\n",
      "host, port = \"\", 5020\n",
      "\n",
      "class Image_Manipulation(object):\n",
      "    \n",
      "    def __init__(self):\n",
      "        self.im_list = []\n",
      "        self.im_array = array([])\n",
      "    \n",
      "    def im_pack(self):\n",
      "        '''\n",
      "        Takes the image im_array attribute in numpy array form and \n",
      "        sets the im_list attribute as a list for xmlrpc transfer.\n",
      "        '''\n",
      "        self.im_list = self.im_array.tolist()\n",
      "    \n",
      "    def im_unpack(self,im_list):\n",
      "        '''\n",
      "        Take the image im_list in list form from xmlrpc transfer and \n",
      "        sets the im_array attribute as a numpy array.\n",
      "        '''\n",
      "        self.im_array = array(im_list)\n",
      "   \n",
      "    def blur(self,im_list):\n",
      "        '''\n",
      "        Performs Guassian blurring on the image with a guassian kernel of size\n",
      "        0.5% of the maximum pixel dimension.\n",
      "        '''\n",
      "        self.im_unpack(im_list)\n",
      "        print('Image recieved for blurring. Processing...')\n",
      "        self.im_array = ndimage.gaussian_filter(self.im_array,sigma=round(max(self.im_array.shape)*5e-3))\n",
      "        self.im_pack()\n",
      "        print('Image processing completed. Packing and sending to client.')\n",
      "        return self.im_list\n",
      "    \n",
      "    def swap_color_channels(self,im_list):\n",
      "        '''\n",
      "        \n",
      "        '''\n",
      "        self.im_unpack(im_list)\n",
      "        print('Image recieved for color channel swapping. Processing...')\n",
      "        if len(self.im_array.shape) == 3:\n",
      "            im_temp = zeros_like(self.im_array)\n",
      "            im_temp[...,1] = im[1][...,0] #R -> G\n",
      "            im_temp[...,2] = im[1][...,1] #G -> B\n",
      "            im_temp[...,0] = im[1][...,2] #B -> R\n",
      "        elif len(self.im_array.shape) == 2:\n",
      "            print('Image only has one color depth.')\n",
      "        else:\n",
      "            raise ValueError('Image array is not shaped correctly.')\n",
      "        self.im_pack()\n",
      "        print('Image processing completed. Packing and sending to client.')\n",
      "        return self.im_list\n",
      "    \n",
      "    def im_manip3(self):\n",
      "        return None\n",
      "\n",
      "#Creates server instance at host and port. Logs are supressed from stdout.\n",
      "server = SimpleXMLRPCServer.SimpleXMLRPCServer((host, port), allow_none=True, logRequests=False)\n",
      "server.register_instance(Image_Manipulation()) #image manipulations\n",
      "server.register_multicall_functions()\n",
      "server.register_introspection_functions()\n",
      "print(\"XMLRPC Server is starting at:\",host,port)\n"
     ],
     "language": "python",
     "metadata": {},
     "outputs": [
      {
       "output_type": "stream",
       "stream": "stdout",
       "text": [
        "Using matplotlib backend: MacOSX\n",
        "Populating the interactive namespace from numpy and matplotlib\n",
        "XMLRPC Server is starting at:  5020\n"
       ]
      }
     ],
     "prompt_number": 5
    },
    {
     "cell_type": "code",
     "collapsed": false,
     "input": [
      "#keep serving forever until keyboard interrupt\n",
      "try:\n",
      "    server.serve_forever()\n",
      "except KeyboardInterrupt:\n",
      "    server.server_close()\n",
      "    print(\"You interrupted, server closing.\")"
     ],
     "language": "python",
     "metadata": {},
     "outputs": [
      {
       "ename": "error",
       "evalue": "[Errno 9] Bad file descriptor",
       "output_type": "pyerr",
       "traceback": [
        "\u001b[0;31m---------------------------------------------------------------------------\u001b[0m\n\u001b[0;31merror\u001b[0m                                     Traceback (most recent call last)",
        "\u001b[0;32m<ipython-input-15-8c699e469937>\u001b[0m in \u001b[0;36m<module>\u001b[0;34m()\u001b[0m\n\u001b[1;32m      1\u001b[0m \u001b[0;31m#keep serving forever until keyboard interrupt\u001b[0m\u001b[0;34m\u001b[0m\u001b[0;34m\u001b[0m\u001b[0m\n\u001b[1;32m      2\u001b[0m \u001b[0;32mtry\u001b[0m\u001b[0;34m:\u001b[0m\u001b[0;34m\u001b[0m\u001b[0m\n\u001b[0;32m----> 3\u001b[0;31m     \u001b[0mserver\u001b[0m\u001b[0;34m.\u001b[0m\u001b[0mserve_forever\u001b[0m\u001b[0;34m(\u001b[0m\u001b[0;34m)\u001b[0m\u001b[0;34m\u001b[0m\u001b[0m\n\u001b[0m\u001b[1;32m      4\u001b[0m \u001b[0;32mexcept\u001b[0m \u001b[0mKeyboardInterrupt\u001b[0m\u001b[0;34m:\u001b[0m\u001b[0;34m\u001b[0m\u001b[0m\n\u001b[1;32m      5\u001b[0m     \u001b[0mserver\u001b[0m\u001b[0;34m.\u001b[0m\u001b[0mserver_close\u001b[0m\u001b[0;34m(\u001b[0m\u001b[0;34m)\u001b[0m\u001b[0;34m\u001b[0m\u001b[0m\n",
        "\u001b[0;32m/Users/josephcurtis/anaconda/python.app/Contents/lib/python2.7/SocketServer.pyc\u001b[0m in \u001b[0;36mserve_forever\u001b[0;34m(self, poll_interval)\u001b[0m\n\u001b[1;32m    234\u001b[0m                 \u001b[0;31m# shutdown request and wastes cpu at all other times.\u001b[0m\u001b[0;34m\u001b[0m\u001b[0;34m\u001b[0m\u001b[0m\n\u001b[1;32m    235\u001b[0m                 r, w, e = _eintr_retry(select.select, [self], [], [],\n\u001b[0;32m--> 236\u001b[0;31m                                        poll_interval)\n\u001b[0m\u001b[1;32m    237\u001b[0m                 \u001b[0;32mif\u001b[0m \u001b[0mself\u001b[0m \u001b[0;32min\u001b[0m \u001b[0mr\u001b[0m\u001b[0;34m:\u001b[0m\u001b[0;34m\u001b[0m\u001b[0m\n\u001b[1;32m    238\u001b[0m                     \u001b[0mself\u001b[0m\u001b[0;34m.\u001b[0m\u001b[0m_handle_request_noblock\u001b[0m\u001b[0;34m(\u001b[0m\u001b[0;34m)\u001b[0m\u001b[0;34m\u001b[0m\u001b[0m\n",
        "\u001b[0;32m/Users/josephcurtis/anaconda/python.app/Contents/lib/python2.7/SocketServer.pyc\u001b[0m in \u001b[0;36m_eintr_retry\u001b[0;34m(func, *args)\u001b[0m\n\u001b[1;32m    153\u001b[0m     \u001b[0;32mwhile\u001b[0m \u001b[0mTrue\u001b[0m\u001b[0;34m:\u001b[0m\u001b[0;34m\u001b[0m\u001b[0m\n\u001b[1;32m    154\u001b[0m         \u001b[0;32mtry\u001b[0m\u001b[0;34m:\u001b[0m\u001b[0;34m\u001b[0m\u001b[0m\n\u001b[0;32m--> 155\u001b[0;31m             \u001b[0;32mreturn\u001b[0m \u001b[0mfunc\u001b[0m\u001b[0;34m(\u001b[0m\u001b[0;34m*\u001b[0m\u001b[0margs\u001b[0m\u001b[0;34m)\u001b[0m\u001b[0;34m\u001b[0m\u001b[0m\n\u001b[0m\u001b[1;32m    156\u001b[0m         \u001b[0;32mexcept\u001b[0m \u001b[0;34m(\u001b[0m\u001b[0mOSError\u001b[0m\u001b[0;34m,\u001b[0m \u001b[0mselect\u001b[0m\u001b[0;34m.\u001b[0m\u001b[0merror\u001b[0m\u001b[0;34m)\u001b[0m \u001b[0;32mas\u001b[0m \u001b[0me\u001b[0m\u001b[0;34m:\u001b[0m\u001b[0;34m\u001b[0m\u001b[0m\n\u001b[1;32m    157\u001b[0m             \u001b[0;32mif\u001b[0m \u001b[0me\u001b[0m\u001b[0;34m.\u001b[0m\u001b[0margs\u001b[0m\u001b[0;34m[\u001b[0m\u001b[0;36m0\u001b[0m\u001b[0;34m]\u001b[0m \u001b[0;34m!=\u001b[0m \u001b[0merrno\u001b[0m\u001b[0;34m.\u001b[0m\u001b[0mEINTR\u001b[0m\u001b[0;34m:\u001b[0m\u001b[0;34m\u001b[0m\u001b[0m\n",
        "\u001b[0;32m/Users/josephcurtis/anaconda/python.app/Contents/lib/python2.7/SocketServer.pyc\u001b[0m in \u001b[0;36mfileno\u001b[0;34m(self)\u001b[0m\n\u001b[1;32m    453\u001b[0m \u001b[0;34m\u001b[0m\u001b[0m\n\u001b[1;32m    454\u001b[0m         \"\"\"\n\u001b[0;32m--> 455\u001b[0;31m         \u001b[0;32mreturn\u001b[0m \u001b[0mself\u001b[0m\u001b[0;34m.\u001b[0m\u001b[0msocket\u001b[0m\u001b[0;34m.\u001b[0m\u001b[0mfileno\u001b[0m\u001b[0;34m(\u001b[0m\u001b[0;34m)\u001b[0m\u001b[0;34m\u001b[0m\u001b[0m\n\u001b[0m\u001b[1;32m    456\u001b[0m \u001b[0;34m\u001b[0m\u001b[0m\n\u001b[1;32m    457\u001b[0m     \u001b[0;32mdef\u001b[0m \u001b[0mget_request\u001b[0m\u001b[0;34m(\u001b[0m\u001b[0mself\u001b[0m\u001b[0;34m)\u001b[0m\u001b[0;34m:\u001b[0m\u001b[0;34m\u001b[0m\u001b[0m\n",
        "\u001b[0;32m/Users/josephcurtis/anaconda/python.app/Contents/lib/python2.7/socket.pyc\u001b[0m in \u001b[0;36mmeth\u001b[0;34m(name, self, *args)\u001b[0m\n\u001b[1;32m    222\u001b[0m \u001b[0;34m\u001b[0m\u001b[0m\n\u001b[1;32m    223\u001b[0m \u001b[0;32mdef\u001b[0m \u001b[0mmeth\u001b[0m\u001b[0;34m(\u001b[0m\u001b[0mname\u001b[0m\u001b[0;34m,\u001b[0m\u001b[0mself\u001b[0m\u001b[0;34m,\u001b[0m\u001b[0;34m*\u001b[0m\u001b[0margs\u001b[0m\u001b[0;34m)\u001b[0m\u001b[0;34m:\u001b[0m\u001b[0;34m\u001b[0m\u001b[0m\n\u001b[0;32m--> 224\u001b[0;31m     \u001b[0;32mreturn\u001b[0m \u001b[0mgetattr\u001b[0m\u001b[0;34m(\u001b[0m\u001b[0mself\u001b[0m\u001b[0;34m.\u001b[0m\u001b[0m_sock\u001b[0m\u001b[0;34m,\u001b[0m\u001b[0mname\u001b[0m\u001b[0;34m)\u001b[0m\u001b[0;34m(\u001b[0m\u001b[0;34m*\u001b[0m\u001b[0margs\u001b[0m\u001b[0;34m)\u001b[0m\u001b[0;34m\u001b[0m\u001b[0m\n\u001b[0m\u001b[1;32m    225\u001b[0m \u001b[0;34m\u001b[0m\u001b[0m\n\u001b[1;32m    226\u001b[0m \u001b[0;32mfor\u001b[0m \u001b[0m_m\u001b[0m \u001b[0;32min\u001b[0m \u001b[0m_socketmethods\u001b[0m\u001b[0;34m:\u001b[0m\u001b[0;34m\u001b[0m\u001b[0m\n",
        "\u001b[0;32m/Users/josephcurtis/anaconda/python.app/Contents/lib/python2.7/socket.pyc\u001b[0m in \u001b[0;36m_dummy\u001b[0;34m(*args)\u001b[0m\n\u001b[1;32m    168\u001b[0m     \u001b[0m__slots__\u001b[0m \u001b[0;34m=\u001b[0m \u001b[0;34m[\u001b[0m\u001b[0;34m]\u001b[0m\u001b[0;34m\u001b[0m\u001b[0m\n\u001b[1;32m    169\u001b[0m     \u001b[0;32mdef\u001b[0m \u001b[0m_dummy\u001b[0m\u001b[0;34m(\u001b[0m\u001b[0;34m*\u001b[0m\u001b[0margs\u001b[0m\u001b[0;34m)\u001b[0m\u001b[0;34m:\u001b[0m\u001b[0;34m\u001b[0m\u001b[0m\n\u001b[0;32m--> 170\u001b[0;31m         \u001b[0;32mraise\u001b[0m \u001b[0merror\u001b[0m\u001b[0;34m(\u001b[0m\u001b[0mEBADF\u001b[0m\u001b[0;34m,\u001b[0m \u001b[0;34m'Bad file descriptor'\u001b[0m\u001b[0;34m)\u001b[0m\u001b[0;34m\u001b[0m\u001b[0m\n\u001b[0m\u001b[1;32m    171\u001b[0m     \u001b[0;31m# All _delegate_methods must also be initialized here.\u001b[0m\u001b[0;34m\u001b[0m\u001b[0;34m\u001b[0m\u001b[0m\n\u001b[1;32m    172\u001b[0m     \u001b[0msend\u001b[0m \u001b[0;34m=\u001b[0m \u001b[0mrecv\u001b[0m \u001b[0;34m=\u001b[0m \u001b[0mrecv_into\u001b[0m \u001b[0;34m=\u001b[0m \u001b[0msendto\u001b[0m \u001b[0;34m=\u001b[0m \u001b[0mrecvfrom\u001b[0m \u001b[0;34m=\u001b[0m \u001b[0mrecvfrom_into\u001b[0m \u001b[0;34m=\u001b[0m \u001b[0m_dummy\u001b[0m\u001b[0;34m\u001b[0m\u001b[0m\n",
        "\u001b[0;31merror\u001b[0m: [Errno 9] Bad file descriptor"
       ]
      }
     ],
     "prompt_number": 15
    },
    {
     "cell_type": "code",
     "collapsed": false,
     "input": [],
     "language": "python",
     "metadata": {},
     "outputs": []
    }
   ],
   "metadata": {}
  }
 ]
}
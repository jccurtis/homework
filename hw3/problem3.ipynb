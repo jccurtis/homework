{
 "metadata": {
  "name": ""
 },
 "nbformat": 3,
 "nbformat_minor": 0,
 "worksheets": [
  {
   "cells": [
    {
     "cell_type": "markdown",
     "metadata": {},
     "source": [
      "#AY250 HW3 Problem 3\n",
      "\n",
      "###Author: Joseph Curtis\n",
      "###Date: September 25, 2013\n",
      "\n",
      "This code is not finished. I could not figure out how to get the rectangles to plot correctly over the mutiple subplots. I wanted to create these couple of classes which would handle all of the calls and data but couldn't get them to function as I desired. I got stuck on getting the rectangles to correctly plot on the `4x4` subplot... There is also a bug which I could not figure out reagrding the opacity of the drawn rectangles becoming darker and darker until they are opaque. You can observe this on the demo below by making rectangles several times. It is as if the rectangles are being drawn on top of each other many times. I think this has to do with the BrushingPlot object I created... something is stuck."
     ]
    },
    {
     "cell_type": "code",
     "collapsed": false,
     "input": [
      "%matplotlib\n",
      "import matplotlib.pyplot as plt\n",
      "from matplotlib.patches import Rectangle\n",
      "import numpy as np\n",
      "\n",
      "class Annotate(object):\n",
      "    def __init__(self,axes):\n",
      "        self.ax = axes\n",
      "        self.rect = Rectangle((0,0), 1, 1, ec='k', fc='grey', alpha=0.25, picker=True, visible=False)\n",
      "        self.x0 = None\n",
      "        self.y0 = None\n",
      "        self.x1 = None\n",
      "        self.y1 = None\n",
      "        self.is_pressed = False\n",
      "        self.ax.figure.canvas.mpl_connect('button_press_event', self.on_press)\n",
      "        self.ax.figure.canvas.mpl_connect('button_release_event', self.on_release)\n",
      "        self.ax.figure.canvas.mpl_connect('motion_notify_event', self.on_motion)\n",
      "\n",
      "    def on_press(self, event):\n",
      "        if event.inaxes != self.ax:\n",
      "            return\n",
      "        print 'press'\n",
      "        self.ax=event.inaxes\n",
      "        self.x0 = event.xdata\n",
      "        self.y0 = event.ydata\n",
      "        self.rect.set_xy((self.x0, self.y0))\n",
      "        self.rect.set_linestyle('solid')\n",
      "        self.ax.figure.canvas.draw()\n",
      "        self.is_pressed = True\n",
      "    \n",
      "    def on_motion(self, event):\n",
      "        if event.inaxes != self.ax:\n",
      "            return\n",
      "        if self.is_pressed == True:\n",
      "            self.x1 = event.xdata\n",
      "            self.y1 = event.ydata\n",
      "            self.rect.set_width(self.x1 - self.x0)\n",
      "            self.rect.set_height(self.y1 - self.y0)\n",
      "            self.rect.set_visible(True)\n",
      "            self.rect.set_alpha(0.25)\n",
      "            self.ax.add_patch(self.rect)\n",
      "            self.ax.figure.canvas.draw()\n",
      "\n",
      "    def on_release(self, event):\n",
      "        if event.inaxes != self.ax:\n",
      "            return\n",
      "        print 'release'\n",
      "        \n",
      "        self.is_pressed = False\n",
      "\n",
      "class BrushingPlot(object):\n",
      "    def __init__(self):\n",
      "        #reading data\n",
      "        self.dt = [('seplen','<f8'),('sepwid','<f8'),('petlen','<f8'),('petwid','<f8'),('type','S10')]\n",
      "        self.data = np.loadtxt('hw_3_data/flowers.csv',dtype=self.dt,skiprows=1,delimiter=',')\n",
      "        #make list of type strings\n",
      "        self.types = [self.dt[i][0] for i in range(len(self.dt)-1)]\n",
      "        #figure and axes initialitzation\n",
      "        self.dim = len(self.dt)-1\n",
      "        self.fig, self.ax_list = plt.subplots(self.dim, self.dim, sharex='col', sharey='row')\n",
      "        self.ax_list_unravel = [item for sublist in self.ax_list for item in sublist]\n",
      "        #self.fig.set_size_inches(7,7)\n",
      "        self.fig.subplots_adjust(wspace=0.1,hspace=0.1)\n",
      "        #color coding dots by type\n",
      "        self.markerColorDict = dict(setosa='r',versicolor='b',virginica='g')\n",
      "        self.colorKey = [self.markerColorDict[item] for item in self.data['type']]\n",
      "        #empty annotation array\n",
      "        self.annotation_list = [[None]*self.dim]*self.dim\n",
      "        #plotting data with method\n",
      "        self.draw_subplot()\n",
      "        \n",
      "    def draw_subplot(self):\n",
      "        '''method to plot the data on the subplot'''\n",
      "        for i in range(self.dim):\n",
      "            for j in range(self.dim):\n",
      "                self.annotation_list[self.dim-1-i][j] = Annotate(self.ax_list[self.dim-1-i,j])\n",
      "                self.ax_list[self.dim-1-i,j].scatter(self.data[self.types[j]],self.data[self.types[i]],color=self.colorKey,marker='o',alpha=0.5)\n",
      "                if self.dim-1-i==j:\n",
      "                    self.ax_list[i,j].annotate(self.types[j], xy=(.8, .8),  xycoords='axes fraction', xytext=(.2, .7), fontsize=15)\n",
      "        #[Annotate(item) for item in self.ax_list_unravel]\n",
      "                             \n",
      "b = BrushingPlot()"
     ],
     "language": "python",
     "metadata": {},
     "outputs": [
      {
       "output_type": "stream",
       "stream": "stdout",
       "text": [
        "Using matplotlib backend: MacOSX\n"
       ]
      },
      {
       "output_type": "stream",
       "stream": "stdout",
       "text": [
        "press\n",
        "release"
       ]
      },
      {
       "output_type": "stream",
       "stream": "stdout",
       "text": [
        "\n",
        "press"
       ]
      },
      {
       "output_type": "stream",
       "stream": "stdout",
       "text": [
        "\n",
        "release"
       ]
      },
      {
       "output_type": "stream",
       "stream": "stdout",
       "text": [
        "\n",
        "press"
       ]
      },
      {
       "output_type": "stream",
       "stream": "stdout",
       "text": [
        "\n",
        "release"
       ]
      },
      {
       "output_type": "stream",
       "stream": "stdout",
       "text": [
        "\n",
        "press"
       ]
      },
      {
       "output_type": "stream",
       "stream": "stdout",
       "text": [
        "\n",
        "release"
       ]
      }
     ],
     "prompt_number": 67
    },
    {
     "cell_type": "markdown",
     "metadata": {},
     "source": [
      "#Demo of Annotate class:\n",
      "\n",
      "Exceute the first code block then click and drag around in the figure created to see a rectangle drawn on the line plot."
     ]
    },
    {
     "cell_type": "code",
     "collapsed": false,
     "input": [
      "fig1, ax1 = plt.subplots()\n",
      "ax1.plot([0,1],[0,1])\n",
      "plt.show()\n",
      "Annotate(ax1)"
     ],
     "language": "python",
     "metadata": {},
     "outputs": [
      {
       "metadata": {},
       "output_type": "pyout",
       "prompt_number": 48,
       "text": [
        "<__main__.Annotate at 0x1137c7490>"
       ]
      },
      {
       "output_type": "stream",
       "stream": "stdout",
       "text": [
        "press\n",
        "release"
       ]
      },
      {
       "output_type": "stream",
       "stream": "stdout",
       "text": [
        "\n",
        "press"
       ]
      },
      {
       "output_type": "stream",
       "stream": "stdout",
       "text": [
        "\n",
        "release"
       ]
      }
     ],
     "prompt_number": 48
    },
    {
     "cell_type": "markdown",
     "metadata": {},
     "source": [
      "#Getting points from within rectangle (attempt, not completed...)"
     ]
    },
    {
     "cell_type": "code",
     "collapsed": false,
     "input": [
      "dataPtsX = np.random.rand(50)\n",
      "dataPtsY = np.random.rand(50)\n",
      "\n",
      "fig2, ax2 = plt.subplots()\n",
      "ax2.scatter(dataPtsX,dataPtsY)\n",
      "Annotate(ax2)"
     ],
     "language": "python",
     "metadata": {},
     "outputs": [
      {
       "metadata": {},
       "output_type": "pyout",
       "prompt_number": 64,
       "text": [
        "<__main__.Annotate at 0x12b3aaf10>"
       ]
      },
      {
       "output_type": "stream",
       "stream": "stdout",
       "text": [
        "press\n",
        "release"
       ]
      },
      {
       "output_type": "stream",
       "stream": "stdout",
       "text": [
        "\n",
        "press"
       ]
      },
      {
       "output_type": "stream",
       "stream": "stdout",
       "text": [
        "\n",
        "release"
       ]
      },
      {
       "output_type": "stream",
       "stream": "stdout",
       "text": [
        "\n",
        "press"
       ]
      },
      {
       "output_type": "stream",
       "stream": "stdout",
       "text": [
        "\n",
        "release"
       ]
      }
     ],
     "prompt_number": 64
    }
   ],
   "metadata": {}
  }
 ]
}
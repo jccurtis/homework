{
 "metadata": {
  "name": ""
 },
 "nbformat": 3,
 "nbformat_minor": 0,
 "worksheets": [
  {
   "cells": [
    {
     "cell_type": "code",
     "collapsed": false,
     "input": [
      "%matplotlib\n",
      "import matplotlib.pyplot as plt\n",
      "from matplotlib.patches import Rectangle\n",
      "import numpy as np\n",
      "\n",
      "#flowers data type\n",
      "dt = [('seplen','<f8'),('sepwid','<f8'),('petlen','<f8'),('petwid','<f8'),('species','S10')]\n",
      "dataFlowers = np.loadtxt('flowers.csv',dtype=dt,skiprows=1,delimiter=',')\n",
      "\n",
      "#subplot setup\n",
      "\n",
      "\n",
      "class Annotate(object):\n",
      "    def __init__(self):\n",
      "        self.ax = plt.gca()\n",
      "        self.rect = Rectangle((0,0), 1, 1)\n",
      "        self.x0 = None\n",
      "        self.y0 = None\n",
      "        self.x1 = None\n",
      "        self.y1 = None\n",
      "        self.ax.add_patch(self.rect)\n",
      "        self.ax.figure.canvas.mpl_connect('button_press_event', self.on_press)\n",
      "        self.ax.figure.canvas.mpl_connect('button_release_event', self.on_release)\n",
      "\n",
      "    def on_press(self, event):\n",
      "        print 'press'\n",
      "        self.x0 = event.xdata\n",
      "        self.y0 = event.ydata\n",
      "\n",
      "    def on_release(self, event):\n",
      "        print 'release'\n",
      "        self.x1 = event.xdata\n",
      "        self.y1 = event.ydata\n",
      "        self.rect.set_width(self.x1 - self.x0)\n",
      "        self.rect.set_height(self.y1 - self.y0)\n",
      "        self.rect.set_xy((self.x0, self.y0))\n",
      "        self.ax.figure.canvas.draw()\n",
      "\n",
      "a = Annotate()\n",
      "plt.show()"
     ],
     "language": "python",
     "metadata": {},
     "outputs": [
      {
       "output_type": "stream",
       "stream": "stdout",
       "text": [
        "Using matplotlib backend: MacOSX\n"
       ]
      }
     ],
     "prompt_number": 8
    },
    {
     "cell_type": "code",
     "collapsed": false,
     "input": [],
     "language": "python",
     "metadata": {},
     "outputs": []
    }
   ],
   "metadata": {}
  }
 ]
}
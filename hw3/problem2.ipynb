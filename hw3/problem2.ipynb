{
 "metadata": {
  "name": ""
 },
 "nbformat": 3,
 "nbformat_minor": 0,
 "worksheets": [
  {
   "cells": [
    {
     "cell_type": "heading",
     "level": 1,
     "metadata": {},
     "source": [
      "Problem 2"
     ]
    },
    {
     "cell_type": "code",
     "collapsed": false,
     "input": [
      "#floating figures:\n",
      "%matplotlib\n",
      "#plotting functionality\n",
      "import matplotlib.pyplot as plt\n",
      "import numpy as np\n",
      "from matplotlib.ticker import MultipleLocator\n",
      "\n",
      "#Stock data type:\n",
      "dtStock = [('mjd','<f8'),('sval','<f8')]\n",
      "dataGoogle = np.loadtxt('hw_3_data/google_data.txt',dtype=dtStock,skiprows=1)\n",
      "dataYahoo = np.loadtxt('hw_3_data/yahoo_data.txt',dtype=dtStock,skiprows=1)\n",
      "\n",
      "#NY temp data type\n",
      "dtTemp = [('mjd','<f8'),('temp','<f8')]\n",
      "dataTemp = np.loadtxt('hw_3_data/ny_temps.txt',dtype=dtTemp,skiprows=1)\n",
      "\n",
      "#PLOT: plotting data on two axes\n",
      "fig = plt.figure()\n",
      "ax1 = fig.add_subplot(1,1,1)\n",
      "lineGoogle = ax1.plot(dataGoogle['mjd'],dataGoogle['sval'], label='Google Stock Value',color='b')\n",
      "lineYahoo = ax1.plot(dataYahoo['mjd'],dataYahoo['sval'], label='Yahoo! Stock Value',color='purple')\n",
      "ax2 = ax1.twinx()\n",
      "lineTemp = ax2.plot(dataTemp['mjd'],dataTemp['temp'],label='NY Mon. High Temp',color='r')\n",
      "\n",
      "#LIMITS: set axis limits to match given figure\n",
      "ax1.set_ylim(-23,750)\n",
      "ax2.set_ylim(-150,100)\n",
      "ax1.set_xlim(48800,55610)\n",
      "\n",
      "#DASHES: getting the dashes to be the same (smaller than normal '--')\n",
      "lineTemp[0].set_dashes([2,2])\n",
      "\n",
      "#TITLE: set title specially so that the text doesn't overlap the top border of the plot area\n",
      "plt.text(0.5, 1.04,'New York Temperature, Google, and Yahoo!',fontsize=18,fontname='Times New Roman',fontweight='bold',horizontalalignment='center',transform = ax1.transAxes)\n",
      "\n",
      "#LEGEND: into one legend for both axes with no border\n",
      "lines = lineGoogle+lineYahoo+lineTemp\n",
      "labels = [l.get_label() for l in lines]\n",
      "lg = ax1.legend(lines,labels,loc='center left',fontsize=8)\n",
      "lg.get_frame().set_linewidth(0)\n",
      "\n",
      "#AXIS LABELS: set axis labels and title with specific font sizes and types\n",
      "ax1.set_xlabel('Date (MJD)',fontsize=10)\n",
      "ax1.set_ylabel('Values (Dollars)',fontsize=9)\n",
      "ax2.set_ylabel('Temperature ($^\\circ$F)',fontsize=9)\n",
      "\n",
      "#MINOR TICKS: set minor tick marks\n",
      "ax1.xaxis.set_minor_locator(MultipleLocator(200))\n",
      "ax1.yaxis.set_minor_locator(MultipleLocator(20))\n",
      "ax2.yaxis.set_minor_locator(MultipleLocator(10))\n",
      "\n",
      "#MAJOR TICK LABEL SIZE\n",
      "ax1.tick_params(axis='both', which='major', labelsize=8)\n",
      "ax2.tick_params(axis='both', which='major', labelsize=8)\n",
      "\n",
      "#AXIS BOTTOM: tick marks for Date only on bottom\n",
      "ax1.xaxis.tick_bottom()\n",
      "\n",
      "#set figure size and dpi to match the png given\n",
      "fig.set_size_inches(16.8,12.84)\n",
      "fig.set_dpi(72)\n",
      "\n",
      "#save png of fig\n",
      "fig.savefig('problem2plot.png')\n",
      "\n",
      "plt.show()"
     ],
     "language": "python",
     "metadata": {},
     "outputs": [
      {
       "output_type": "stream",
       "stream": "stdout",
       "text": [
        "Using matplotlib backend: MacOSX\n"
       ]
      }
     ],
     "prompt_number": 116
    },
    {
     "cell_type": "code",
     "collapsed": false,
     "input": [],
     "language": "python",
     "metadata": {},
     "outputs": []
    }
   ],
   "metadata": {}
  }
 ]
}
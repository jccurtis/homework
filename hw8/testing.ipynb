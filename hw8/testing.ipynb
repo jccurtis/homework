{
 "metadata": {
  "name": ""
 },
 "nbformat": 3,
 "nbformat_minor": 0,
 "worksheets": [
  {
   "cells": [
    {
     "cell_type": "markdown",
     "metadata": {},
     "source": [
      "# Strip filename out of URL"
     ]
    },
    {
     "cell_type": "code",
     "collapsed": false,
     "input": [
      "import os\n",
      "urlStr = 'http://www.htmliseasy.com/about_gifs/hello_world.gif'\n",
      "loc,filename = os.path.split(urlStr)\n",
      "print filename"
     ],
     "language": "python",
     "metadata": {},
     "outputs": [
      {
       "output_type": "stream",
       "stream": "stdout",
       "text": [
        "hello_world.gif\n"
       ]
      }
     ],
     "prompt_number": 14
    },
    {
     "cell_type": "markdown",
     "metadata": {},
     "source": [
      "# Query Code"
     ]
    },
    {
     "cell_type": "code",
     "collapsed": false,
     "input": [
      "import urllib\n",
      "queryStr = 'this is my query 3!#@$2'\n",
      "urllib.urlencode({'v':'1.0','q':queryStr},1)"
     ],
     "language": "python",
     "metadata": {},
     "outputs": [
      {
       "metadata": {},
       "output_type": "pyout",
       "prompt_number": 18,
       "text": [
        "'q=this+is+my+query+3%21%23%40%242&v=1.0'"
       ]
      }
     ],
     "prompt_number": 18
    },
    {
     "cell_type": "markdown",
     "metadata": {},
     "source": [
      "#Download Image File"
     ]
    },
    {
     "cell_type": "code",
     "collapsed": false,
     "input": [
      "import urllib2\n",
      "import urllib\n",
      "import os\n",
      "urlStr = 'http://www.htmliseasy.com/about_gifs/hello_world.gif'\n",
      "loc,filename = os.path.split(urlStr)\n",
      "urllib.urlretrieve(urlStr,filename)"
     ],
     "language": "python",
     "metadata": {},
     "outputs": [
      {
       "metadata": {},
       "output_type": "pyout",
       "prompt_number": 17,
       "text": [
        "('hello_world.gif', <httplib.HTTPMessage instance at 0x1060be128>)"
       ]
      }
     ],
     "prompt_number": 17
    },
    {
     "cell_type": "markdown",
     "metadata": {},
     "source": [
      "#Query Google Image Search Loop\n",
      "https://developers.google.com/image-search/v1/jsondevguide#json_args"
     ]
    },
    {
     "cell_type": "code",
     "collapsed": false,
     "input": [
      "import os\n",
      "import sys\n",
      "import time\n",
      "import urllib2\n",
      "import simplejson\n",
      "\n",
      "# Define search term\n",
      "searchTerm = \"hello world\"\n",
      "\n",
      "# Replace spaces ' ' in search term for '%20' in order to comply with request\n",
      "searchTerm = searchTerm.replace(' ','%20')\n",
      "\n",
      "# Set count to 0\n",
      "count= 0\n",
      "\n",
      "for i in range(0,10):\n",
      "    # Notice that the start changes for each iteration in order to request a new set of images for each loop\n",
      "    url = ('https://ajax.googleapis.com/ajax/services/search/images?' + 'v=1.0&q='+searchTerm+'&start='+str(i*4)+'&userip=MyIP')\n",
      "    print url\n",
      "    request = urllib2.Request(url, None, {'Referer': 'testing'})\n",
      "    response = urllib2.urlopen(request)\n",
      "\n",
      "    # Get results using JSON\n",
      "    results = simplejson.load(response)\n",
      "    data = results['responseData']\n",
      "    dataInfo = data['results']\n",
      "\n",
      "    # Iterate for each result and get unescaped url\n",
      "    for myUrl in dataInfo:\n",
      "        count = count + 1\n",
      "        print myUrl['unescapedUrl']\n",
      "\n",
      "    # Sleep for one second to prevent IP blocking from Google\n",
      "    time.sleep(1)"
     ],
     "language": "python",
     "metadata": {},
     "outputs": [
      {
       "output_type": "stream",
       "stream": "stdout",
       "text": [
        "https://ajax.googleapis.com/ajax/services/search/images?v=1.0&q=hello%20world&start=0&userip=MyIP\n",
        "http://endurancemktg.com/wp-content/uploads/2011/02/472097903_b781a0f4f8.jpg"
       ]
      },
      {
       "output_type": "stream",
       "stream": "stdout",
       "text": [
        "\n",
        "http://www.htmliseasy.com/about_gifs/hello_world.gif\n",
        "http://upload.wikimedia.org/wikipedia/commons/8/8c/PSP-Homebrew.jpeg\n",
        "http://www.cearta.ie/wp-content/uploads/2006/hello_world.png\n",
        "https://ajax.googleapis.com/ajax/services/search/images?v=1.0&q=hello%20world&start=4&userip=MyIP"
       ]
      },
      {
       "output_type": "stream",
       "stream": "stdout",
       "text": [
        "\n",
        "http://nosvaleverga.com/wp-content/uploads/2013/02/sample_hello_world.png"
       ]
      },
      {
       "output_type": "stream",
       "stream": "stdout",
       "text": [
        "\n",
        "http://armoredcode.com/images/hello-world.jpg\n",
        "http://www.cafeaulait.org/books/jdr/chapters/HelloWorldUnix.jpg\n",
        "http://www.engadget.com/media/2007/07/hello-world-iphone.jpg\n",
        "https://ajax.googleapis.com/ajax/services/search/images?v=1.0&q=hello%20world&start=8&userip=MyIP"
       ]
      },
      {
       "output_type": "stream",
       "stream": "stdout",
       "text": [
        "\n",
        "http://www.indianeworld.com/wp-content/uploads/2013/08/hello-world-java-program.png"
       ]
      },
      {
       "output_type": "stream",
       "stream": "stdout",
       "text": [
        "\n",
        "http://abeon-hosting.com/wp-content/uploads/2013/08/hello-world.jpg\n",
        "http://da2i.univ-lille1.fr/doc/tutorial-java/figures/getStarted/result.gif\n",
        "http://docs.pylonsproject.org/projects/pylons-webframework/en/latest/_images/helloworld.png\n",
        "https://ajax.googleapis.com/ajax/services/search/images?v=1.0&q=hello%20world&start=12&userip=MyIP"
       ]
      },
      {
       "output_type": "stream",
       "stream": "stdout",
       "text": [
        "\n",
        "http://images2.wikia.nocookie.net/__cb20130714173119/kongregate/images/7/75/Helloworldtall1.png"
       ]
      },
      {
       "output_type": "stream",
       "stream": "stdout",
       "text": [
        "\n",
        "http://linuxgazette.net/144/misc/john/helloworld.png\n",
        "http://tekreaders.com/blog/wp-content/uploads/2011/01/hello-world.jpg\n",
        "http://hackadaycom.files.wordpress.com/2010/07/helloworld1.png\n",
        "https://ajax.googleapis.com/ajax/services/search/images?v=1.0&q=hello%20world&start=16&userip=MyIP"
       ]
      },
      {
       "output_type": "stream",
       "stream": "stdout",
       "text": [
        "\n",
        "http://ridhoodhe.files.wordpress.com/2012/07/hw.jpg"
       ]
      },
      {
       "output_type": "stream",
       "stream": "stdout",
       "text": [
        "\n",
        "http://pschmid.net/blog/images/helloWorldVBA2_3.png\n",
        "http://upload.wikimedia.org/wikipedia/commons/6/60/Hello_World_Perl_GTk2_2012-12-04.png\n",
        "http://lisperati.com/haskell/hello_world.png\n",
        "https://ajax.googleapis.com/ajax/services/search/images?v=1.0&q=hello%20world&start=20&userip=MyIP"
       ]
      },
      {
       "output_type": "stream",
       "stream": "stdout",
       "text": [
        "\n",
        "http://www.besthdfreewallpaper.com/wp-content/uploads/2013/08/Hello-World-Wallpaper.png"
       ]
      },
      {
       "output_type": "stream",
       "stream": "stdout",
       "text": [
        "\n",
        "http://wpbits.files.wordpress.com/2007/08/sample_hello_world_plugin_v2.png\n",
        "http://pixelduke.files.wordpress.com/2010/01/jnbdec2008-hello-world-example2.png\n",
        "http://www.coprolite.com/arts/o2first/helloworld.jpg\n",
        "https://ajax.googleapis.com/ajax/services/search/images?v=1.0&q=hello%20world&start=24&userip=MyIP"
       ]
      },
      {
       "output_type": "stream",
       "stream": "stdout",
       "text": [
        "\n",
        "https://hkn.eecs.berkeley.edu/~dyoo/python/idle_intro/hello_world.jpeg"
       ]
      },
      {
       "output_type": "stream",
       "stream": "stdout",
       "text": [
        "\n",
        "http://www.playframework.com/documentation/1.0/images/firstapp-1\n",
        "http://theunconvention.com/wp-content/uploads/2008/08/baker-hello-world.jpg\n",
        "http://gnostice.com/images/newsletter/2011_05_Assembly_Language_20_Byte_Hello_World_Program.png\n",
        "https://ajax.googleapis.com/ajax/services/search/images?v=1.0&q=hello%20world&start=28&userip=MyIP"
       ]
      },
      {
       "output_type": "stream",
       "stream": "stdout",
       "text": [
        "\n",
        "http://www.kirupa.com/blend_silverlight/images/centeringHelloWorld.png"
       ]
      },
      {
       "output_type": "stream",
       "stream": "stdout",
       "text": [
        "\n",
        "http://shirtoid.com/wp-content/uploads/2010/03/hello-world.jpg\n",
        "http://www.indiegamemag.com/media/hello_world-2012-12-03-15-23-49-93.png\n",
        "http://christopherbaker.net/wp-content/uploads/2008/08/hello_world_nash_ch_2_web.jpg\n",
        "https://ajax.googleapis.com/ajax/services/search/images?v=1.0&q=hello%20world&start=32&userip=MyIP"
       ]
      },
      {
       "output_type": "stream",
       "stream": "stdout",
       "text": [
        "\n",
        "http://docs.orchardproject.net/Attachments/Building-a-hello-world-module/HelloWorld.png"
       ]
      },
      {
       "output_type": "stream",
       "stream": "stdout",
       "text": [
        "\n",
        "http://art.runme.org/1046682009-8023-0/helloworld.png\n",
        "http://www.todayandtomorrow.net/wp-content/uploads/2011/06/hello_world_01.jpg\n",
        "http://upload.wikimedia.org/wikipedia/commons/1/12/Gedit_hello_world.png\n",
        "https://ajax.googleapis.com/ajax/services/search/images?v=1.0&q=hello%20world&start=36&userip=MyIP"
       ]
      },
      {
       "output_type": "stream",
       "stream": "stdout",
       "text": [
        "\n",
        "http://upload.wikimedia.org/wikipedia/commons/0/00/CNC_Hello_World.jpg"
       ]
      },
      {
       "output_type": "stream",
       "stream": "stdout",
       "text": [
        "\n",
        "http://cocos2d.org/doc/programming_guide/hello_world.py.png\n",
        "http://homepages.cwi.nl/~jack/macpython_help/ide/hello_world.gif\n",
        "http://www.dieajax.com/samples/tutorial/javafx/hello-world/hello-world.png\n"
       ]
      }
     ],
     "prompt_number": 19
    },
    {
     "cell_type": "markdown",
     "metadata": {},
     "source": [
      "#Get Image Function"
     ]
    },
    {
     "cell_type": "code",
     "collapsed": false,
     "input": [
      "import os\n",
      "import urllib\n",
      "import urllib2\n",
      "import sys\n",
      "import time\n",
      "import simplejson\n",
      "\n"
     ],
     "language": "python",
     "metadata": {},
     "outputs": []
    }
   ],
   "metadata": {}
  }
 ]
}
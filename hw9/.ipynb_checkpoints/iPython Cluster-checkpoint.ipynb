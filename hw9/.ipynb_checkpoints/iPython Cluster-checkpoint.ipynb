{
 "metadata": {
  "name": ""
 },
 "nbformat": 3,
 "nbformat_minor": 0,
 "worksheets": [
  {
   "cells": [
    {
     "cell_type": "markdown",
     "metadata": {},
     "source": [
      "#iPython Cluster"
     ]
    },
    {
     "cell_type": "code",
     "collapsed": false,
     "input": [
      "from IPython import parallel\n",
      "import os,sys,time\n",
      "import numpy as np\n",
      "import matplotlib.pyplot as plt\n",
      "from montecarlo import darts, dartSplit\n",
      "\n",
      "rc = parallel.Client()\n",
      "dview = rc[:] \n",
      "dview.block = True\n",
      "nnodes = len(dview)"
     ],
     "language": "python",
     "metadata": {},
     "outputs": [],
     "prompt_number": 1
    },
    {
     "cell_type": "code",
     "collapsed": false,
     "input": [
      "n=1e5\n",
      "nSplit = dartSplit(n,nnodes)\n",
      "result = dview.map_async(darts,nSplit)\n",
      "for piApprox,circleDarts,numDarts,execTime,dartsPerSec in result:\n",
      "    print piApprox,circleDarts,numDarts,execTime,dartsPerSec"
     ],
     "language": "python",
     "metadata": {},
     "outputs": [
      {
       "output_type": "stream",
       "stream": "stdout",
       "text": [
        "3.12512 19532 25000 0.0608189105988 411056.359837\n",
        "3.14288 19643 25000 0.0560309886932 446181.668092\n",
        "3.15024 19689 25000 0.0612409114838 408223.839167\n",
        "3.14784 19674 25000 0.046679019928 535572.512846\n"
       ]
      }
     ],
     "prompt_number": 2
    },
    {
     "cell_type": "code",
     "collapsed": false,
     "input": [
      "for n in np.logspace(1,2,7):\n",
      "    nSplit = dartSplit(n,nnodes)\n",
      "    result = dview.map_async(darts,nSplit)\n",
      "    for piApproxCore,circleDartsCore,numDartsCore,execTimeCore,dartsPerSecCore in result:\n",
      "        "
     ],
     "language": "python",
     "metadata": {},
     "outputs": [],
     "prompt_number": 6
    },
    {
     "cell_type": "code",
     "collapsed": false,
     "input": [
      "result()"
     ],
     "language": "python",
     "metadata": {},
     "outputs": [
      {
       "ename": "TypeError",
       "evalue": "'AsyncMapResult' object is not callable",
       "output_type": "pyerr",
       "traceback": [
        "\u001b[0;31m---------------------------------------------------------------------------\u001b[0m\n\u001b[0;31mTypeError\u001b[0m                                 Traceback (most recent call last)",
        "\u001b[0;32m<ipython-input-7-5ae8e533e9cc>\u001b[0m in \u001b[0;36m<module>\u001b[0;34m()\u001b[0m\n\u001b[0;32m----> 1\u001b[0;31m \u001b[0mresult\u001b[0m\u001b[0;34m(\u001b[0m\u001b[0;34m)\u001b[0m\u001b[0;34m\u001b[0m\u001b[0m\n\u001b[0m",
        "\u001b[0;31mTypeError\u001b[0m: 'AsyncMapResult' object is not callable"
       ]
      }
     ],
     "prompt_number": 7
    },
    {
     "cell_type": "code",
     "collapsed": false,
     "input": [],
     "language": "python",
     "metadata": {},
     "outputs": []
    }
   ],
   "metadata": {}
  }
 ]
}
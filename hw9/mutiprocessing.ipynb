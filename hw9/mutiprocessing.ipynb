{
 "metadata": {
  "name": ""
 },
 "nbformat": 3,
 "nbformat_minor": 0,
 "worksheets": [
  {
   "cells": [
    {
     "cell_type": "markdown",
     "metadata": {},
     "source": [
      "# AY250 HW09 Multiprocessing\n",
      "# Joseph Curtis\n",
      "\n",
      "**Monte Carlo for Pi:**\n",
      "![Monte Carlo Pi](http://docs.picloud.com/_images/basic_example_monte.png)\n",
      "\n",
      "\n",
      "The algorithm uses a Monte Carlo dart-throwing simulation to calculate a numerical approximation to Pi. \n",
      "\n",
      "Write a large program that runs this algorithm under the three different parallelization methods. Run several trials with different numbers of darts thrown (up to execution times ~100 seconds). Keep track of the execution times as a function of number of darts and method of parallelization. Also, keep track of the simulation rate (darts thrown per second). If you want to be awesome (!), you can run each simulation multiple times for each number of darts and calculate the standard deviation for the execution time and the simulation rate, but this is not required.\n",
      "\n",
      "Plot execution time and simulation rate as a function of number of darts for all three methods. If you calculated standard deviations, use errorbar plots. See the example plot on the following page and try to emulate it. In your README file, explain the behavior you measure and illustrate in the plot. The grader should be able to simply run your submitted program and reproduce the plot.\n",
      "\n",
      "\n",
      "Put your plotting imports after running all the simulations. They can introduce overhead that slows down seemingly unrelated code. Do some investigation online to see examples of multiprocessing and IPython parallel.\n",
      "\n",
      "The official python multiprocessing documentation is here:\n",
      "http://docs.python.org/library/multiprocessing.html\n",
      "\n",
      "You should investigate the pool function in particular.\n",
      "\n",
      "You can check out IPython parallel info at these links:\n",
      "http://ipython.org/ipython-doc/dev/parallel/index.html\n",
      "https://github.com/minrk/PyData2012\n",
      "\n",
      "Include your processor type in the readme (the second example plot was generated on MacBook Air with 2 GHz Intel Core i7, 2 \u201ccores\u201d) during explanation of measured behavior."
     ]
    },
    {
     "cell_type": "code",
     "collapsed": false,
     "input": [
      "import memory_profiler as mp\n",
      "%pylab"
     ],
     "language": "python",
     "metadata": {},
     "outputs": [
      {
       "output_type": "stream",
       "stream": "stdout",
       "text": [
        "Using matplotlib backend: MacOSX\n",
        "Populating the interactive namespace from numpy and matplotlib\n"
       ]
      }
     ],
     "prompt_number": 1
    },
    {
     "cell_type": "code",
     "collapsed": false,
     "input": [],
     "language": "python",
     "metadata": {},
     "outputs": []
    }
   ],
   "metadata": {}
  }
 ]
}
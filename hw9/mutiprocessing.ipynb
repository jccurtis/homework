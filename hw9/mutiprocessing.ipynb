{
 "metadata": {
  "name": ""
 },
 "nbformat": 3,
 "nbformat_minor": 0,
 "worksheets": [
  {
   "cells": [
    {
     "cell_type": "markdown",
     "metadata": {},
     "source": []
    },
    {
     "cell_type": "code",
     "collapsed": false,
     "input": [
      "import memory_profiler as mp\n",
      "from os import listdir\n",
      "from multiprocessing import Pool, cpu_count\n",
      "from time import time\n",
      "%pylab"
     ],
     "language": "python",
     "metadata": {},
     "outputs": [
      {
       "output_type": "stream",
       "stream": "stdout",
       "text": [
        "Using matplotlib backend: MacOSX\n",
        "Populating the interactive namespace from numpy and matplotlib\n"
       ]
      }
     ],
     "prompt_number": 1
    },
    {
     "cell_type": "code",
     "collapsed": false,
     "input": [
      "#%%file montecarlo.py\n",
      "\n",
      "def scatterBreak(n,nnodes):\n",
      "\t'''\n",
      "\tBreaks n darts into a nnodes length list of darts \n",
      "\tfor each core. Each number of darts of output\n",
      "\tn_scatter is equal or nearly equal (with n mod nnodes \n",
      "\tgiven to the first core. Since this modulus is likely \n",
      "\tto be less than 6 (hex core) adding the entire modulus\n",
      "\tto the first core is not considered to lengthen the \n",
      "\tprocess for that core.\n",
      "\t'''\n",
      "\tn_scatter = [np.floor(n/nnodes)+n%nnodes]+[np.floor(n/nnodes)]*(nnodes-1)\n",
      "\treturn n_scatter\n",
      "\n",
      "def darts(numDarts):\n",
      "\t'''\n",
      "\t'''\n",
      "\tnumDarts = int(numDarts)                     #convert input to int\n",
      "\tcircleDarts = 0                              #counter for darts in circle\n",
      "\tstart = time()                               #start time\n",
      "\tfor n in xrange(numDarts):                   #circle centered at \n",
      "\t\tx, y = uniform(0,1), uniform(0,1)        #(0.5,0.5), random\n",
      "\t\tif sqrt((x-0.5)**2+(y-0.5)**2) <= 0.5:   #darts sampled in unit\n",
      "\t\t\tcircleDarts += 1                     #square, counted in circ\n",
      "\tend = time()                                 #end time\n",
      "\tpiApprox = 4*circleDarts/float(numDarts)     #extract pi from mc run\n",
      "\texecTime = end-start                         #execution time\n",
      "\tdartsPerSec = numDarts/float(execTime)       #darts thrown per sec\n",
      "\treturn piApprox,execTime,numDarts,dartsPerSec"
     ],
     "language": "python",
     "metadata": {},
     "outputs": [],
     "prompt_number": 17
    },
    {
     "cell_type": "code",
     "collapsed": false,
     "input": [
      "from montecarlo import darts"
     ],
     "language": "python",
     "metadata": {},
     "outputs": [],
     "prompt_number": 14
    },
    {
     "cell_type": "code",
     "collapsed": false,
     "input": [
      "piApprox,execTime,numDarts,dartsPerSec = darts(1e7)\n",
      "\n",
      "print piApprox,execTime,numDarts,dartsPerSec"
     ],
     "language": "python",
     "metadata": {},
     "outputs": [
      {
       "output_type": "stream",
       "stream": "stdout",
       "text": [
        "3.142118 14.8085870743 10000000 675283.87076\n"
       ]
      }
     ],
     "prompt_number": 21
    },
    {
     "cell_type": "code",
     "collapsed": false,
     "input": [],
     "language": "python",
     "metadata": {},
     "outputs": [
      {
       "metadata": {},
       "output_type": "pyout",
       "prompt_number": 22,
       "text": [
        "3.141592653589793"
       ]
      }
     ],
     "prompt_number": 22
    },
    {
     "cell_type": "code",
     "collapsed": false,
     "input": [],
     "language": "python",
     "metadata": {},
     "outputs": []
    }
   ],
   "metadata": {}
  }
 ]
}
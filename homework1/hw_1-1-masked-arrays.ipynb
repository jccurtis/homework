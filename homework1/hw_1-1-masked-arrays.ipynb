{
 "metadata": {
  "name": ""
 },
 "nbformat": 3,
 "nbformat_minor": 0,
 "worksheets": [
  {
   "cells": [
    {
     "cell_type": "markdown",
     "metadata": {},
     "source": [
      "## Due Wednesday Sept 11, 2013 @ 5pm ##\n",
      "\n",
      "Send us an email `ucbpythonclass+seminar@gmail.com` (with a tarball of notebook/code/files)\n",
      "\n",
      "## 0-1  Fun with Masked Arrays ##\n",
      "\n",
      "`Numpy` masked arrays provide a way to keep track of elements that are considered \"missing\" or \"bad\". This is extremely useful when performing statistics on such arrays---masked elements should not be included in determining, for example the mean.  Masked arrays are really helpful when combining images too that have known regions of bad or bogus data.\n",
      "\n",
      "Check out the masked array methods and functions here:\n",
      "  http://docs.scipy.org/doc/numpy/reference/routines.ma.html"
     ]
    },
    {
     "cell_type": "markdown",
     "metadata": {},
     "source": [
      "In this exercise you'll use masked arrays to find a hidden word by combining a series of images. Here's two of them (`im1-a.png`):\n",
      "<center>\n",
      "<img src=\"files/hw_0_data/im1-a.png\" width=20%/> &nbsp; <img src=\"files/hw_0_data/im1-b.png\" width=20%/>\n",
      "</center>"
     ]
    },
    {
     "cell_type": "markdown",
     "metadata": {},
     "source": [
      "The black dot and the hidden word are fixed with respect to each other but the light grey area hides a different part of the word in each image. You'll notice that the black dot has moved in each image.\n",
      "\n",
      "A tarball for this question and the next is at:\n",
      "\n",
      "https://www.dropbox.com/s/0clmmvwkoy000d4/homework1_data.tgz"
     ]
    },
    {
     "cell_type": "markdown",
     "metadata": {},
     "source": [
      "1) Using `numpy` tools, find the location of the center of the black dot in all five images (`im1-a.png` through `im1-e.png`) and report those locations as a list of 5 tuples. Note: if you want to display the images you can do something like (in IPython):\n",
      "\n",
      "```python\n",
      "%pylab inline\n",
      "from scipy.ndimage import imread\n",
      "im=imread(\"im1.png\",flatten=True)\n",
      "imshow(im,cmap=cm.Greys)\n",
      "```"
     ]
    },
    {
     "cell_type": "markdown",
     "metadata": {},
     "source": [
      "2) Using the location of the black dot in the first image, find the offset of the other images with respect to the first image. Using `scipy.ndimage.interpolation.shift` perform a shift on the other four images such that they are \"registered\" (aligned) with the first image. That is, make sure that the black dots are all in the same x,y location in the transformed images. Keep those images in `numpy` arrays (for the next part) but also save those images as `.png` files, appropriately named (`im1-b-shift.png`, `im1-c-shift.png`, etc.). Note: you'll need to think a bit about how you treat the edges in the `shift` operation."
     ]
    },
    {
     "cell_type": "markdown",
     "metadata": {},
     "source": [
      "3) Mask out the registered images by finding an appropriate `mask` for the grey-level regions making 5 new masked arrays like:\n",
      "```python\n",
      "new_masked_a = ma.masked_array(ima,mask=mask)\n",
      "```\n",
      "Combine the masked arrays using `np.ma.median` to reveal the hidden message."
     ]
    },
    {
     "cell_type": "code",
     "collapsed": false,
     "input": [
      "#(c) Python Seminar UC Berkeley 2013\n",
      "__author__ = \"Joseph Curtis\"\n",
      "__email__ = \"jccurtis@berkeley.edu\"\n",
      "\n",
      "%pylab inline\n",
      "import numpy as np\n",
      "import scipy as sp\n",
      "from scipy.ndimage import imread\n",
      "from scipy.ndimage.interpolation import shift\n",
      "from scipy.misc import imsave\n",
      "from numpy.ma import median\n",
      "from numpy.ma import masked_less_equal\n",
      "\n",
      "im_a=imread(\"Data/im1-a.png\",flatten=True)\n",
      "im_b=imread(\"Data/im1-b.png\",flatten=True)\n",
      "im_c=imread(\"Data/im1-c.png\",flatten=True)\n",
      "im_d=imread(\"Data/im1-d.png\",flatten=True)\n",
      "im_e=imread(\"Data/im1-e.png\",flatten=True)\n",
      "\n",
      "subplot(1, 5, 1)\n",
      "imshow(im_a,cmap=cm.gray)\n",
      "subplot(1, 5, 2)\n",
      "imshow(im_b,cmap=cm.gray)\n",
      "subplot(1, 5, 3)\n",
      "imshow(im_c,cmap=cm.gray)\n",
      "subplot(1, 5, 4)\n",
      "imshow(im_d,cmap=cm.gray)\n",
      "subplot(1, 5, 5)\n",
      "imshow(im_e,cmap=cm.gray)\n",
      "show()\n",
      "\n",
      "min_loc_a_1d = im_a.argmin()\n",
      "min_loc_b_1d = im_b.argmin()\n",
      "min_loc_c_1d = im_c.argmin()\n",
      "min_loc_d_1d = im_d.argmin()\n",
      "min_loc_e_1d = im_e.argmin()\n",
      "min_loc_a_2d = unravel_index(min_loc_a_1d,shape(im_a))\n",
      "min_loc_b_2d = unravel_index(min_loc_b_1d,shape(im_a))\n",
      "min_loc_c_2d = unravel_index(min_loc_c_1d,shape(im_a))\n",
      "min_loc_d_2d = unravel_index(min_loc_d_1d,shape(im_a))\n",
      "min_loc_e_2d = unravel_index(min_loc_e_1d,shape(im_a))\n",
      "\n",
      "print \"a min = \" + str(min_loc_a_2d)\n",
      "print \"b min = \" + str(min_loc_b_2d)\n",
      "print \"c min = \" + str(min_loc_c_2d)\n",
      "print \"d min = \" + str(min_loc_d_2d)\n",
      "print \"e min = \" + str(min_loc_e_2d)\n",
      "\n",
      "shift_b = subtract(min_loc_a_2d,min_loc_b_2d)\n",
      "shift_c = subtract(min_loc_a_2d,min_loc_c_2d)\n",
      "shift_d = subtract(min_loc_a_2d,min_loc_d_2d)\n",
      "shift_e = subtract(min_loc_a_2d,min_loc_e_2d)\n",
      "\n",
      "# put everything into 3D array\n",
      "# treated the edges by copying the nearest pixel in the shift\n",
      "im_shifted = zeros((5,288,288))\n",
      "im_shifted[0,:,:] = im_a\n",
      "im_shifted[1,:,:] = shift(im_b,shift_b,mode='nearest')\n",
      "im_shifted[2,:,:] = shift(im_c,shift_c,mode='nearest')\n",
      "im_shifted[3,:,:] = shift(im_d,shift_d,mode='nearest')\n",
      "im_shifted[4,:,:] = shift(im_e,shift_e,mode='nearest')\n",
      "\n",
      "# save png files of shifted images\n",
      "imsave('im1-b-shifted.png',im_shifted[1,:,:])\n",
      "imsave('im1-c-shifted.png',im_shifted[2,:,:])\n",
      "imsave('im1-d-shifted.png',im_shifted[3,:,:])\n",
      "imsave('im1-e-shifted.png',im_shifted[4,:,:])\n",
      "\n",
      "# plot shifted images\n",
      "subplot(1, 5, 1)\n",
      "imshow(im_shifted[0,:,:],cmap=cm.gray)\n",
      "subplot(1, 5, 2)\n",
      "imshow(im_shifted[1,:,:],cmap=cm.gray)\n",
      "subplot(1, 5, 3)\n",
      "imshow(im_shifted[2,:,:],cmap=cm.gray)\n",
      "subplot(1, 5, 4)\n",
      "imshow(im_shifted[3,:,:],cmap=cm.gray)\n",
      "subplot(1, 5, 5)\n",
      "imshow(im_shifted[4,:,:],cmap=cm.gray)\n",
      "show()\n",
      "\n",
      "# value of light gray pixels\n",
      "gray_pixel = im_a[250][0]\n",
      "print 'gray pixel value = ' + str(gray_pixel)\n",
      "\n",
      "# masked arrays\n",
      "im_shifted_m = masked_less_equal(im_shifted,gray_pixel)\n",
      "\n",
      "im_final = median(im_shifted_m , axis=0)\n",
      "\n",
      "imshow(im_final,cmap=cm.gray_r)\n",
      "show()"
     ],
     "language": "python",
     "metadata": {},
     "outputs": [
      {
       "output_type": "stream",
       "stream": "stdout",
       "text": [
        "Populating the interactive namespace from numpy and matplotlib\n"
       ]
      },
      {
       "output_type": "stream",
       "stream": "stderr",
       "text": [
        "WARNING: pylab import has clobbered these variables: ['median', 'imsave', 'imread']\n",
        "`%pylab --no-import-all` prevents importing * from pylab and numpy\n"
       ]
      },
      {
       "metadata": {},
       "output_type": "display_data",
       "png": "[encoded data removed]",
       "text": [
        "<matplotlib.figure.Figure at 0x1082581d0>"
       ]
      },
      {
       "output_type": "stream",
       "stream": "stdout",
       "text": [
        "a min = (71, 144)\n",
        "b min = (71, 195)\n",
        "c min = (66, 134)\n",
        "d min = (76, 128)\n",
        "e min = (76, 118)\n"
       ]
      },
      {
       "metadata": {},
       "output_type": "display_data",
       "png": "[encoded data removed]",
       "text": [
        "<matplotlib.figure.Figure at 0x10ba20e50>"
       ]
      },
      {
       "output_type": "stream",
       "stream": "stdout",
       "text": [
        "gray pixel value = 183.0\n"
       ]
      },
      {
       "metadata": {},
       "output_type": "display_data",
       "png": "[encoded data removed]",
       "text": [
        "<matplotlib.figure.Figure at 0x107407050>"
       ]
      }
     ],
     "prompt_number": 137
    },
    {
     "cell_type": "code",
     "collapsed": false,
     "input": [],
     "language": "python",
     "metadata": {},
     "outputs": []
    }
   ],
   "metadata": {}
  }
 ]
}
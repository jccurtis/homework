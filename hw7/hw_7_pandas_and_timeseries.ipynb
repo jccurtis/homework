{
 "metadata": {
  "name": ""
 },
 "nbformat": 3,
 "nbformat_minor": 0,
 "worksheets": [
  {
   "cells": [
    {
     "cell_type": "markdown",
     "metadata": {},
     "source": [
      "Pandas and Timeseries\n",
      "----------------------\n",
      "\n",
      "Due Thursday October 24 at 9am\n",
      "\n",
      "UC Berkeley \"Python for Data Science\" Seminar AY 250. Fall 2013.\n",
      "\n",
      "Created by Guest Lecturer [Wes McKinney](http://blog.wesmckinney.com/).\n",
      "\n",
      "Download a dump of data about closed GitHub issues for the pandas project here:\n",
      "\n",
      "https://www.dropbox.com/s/pe6dqooznrfynii/closed.json\n",
      "\n",
      "Use the built-in json library to read this file into memory. Each element in\n",
      "the list contains information about a GitHub issue and all developer comments\n",
      "that were made on it in the 'comments' field."
     ]
    },
    {
     "cell_type": "markdown",
     "metadata": {},
     "source": [
      "Part 1\n",
      "---\n",
      "Make a DataFrame with one row per issue with the following columns extracted\n",
      "from the issue data:\n",
      "\n",
      "   ``ntitle, created_at, labels, closed_at, user, id``"
     ]
    },
    {
     "cell_type": "code",
     "collapsed": false,
     "input": [
      "import pandas as pd\n",
      "%pylab inline\n",
      "dataAll = pd.read_json('closed.json')\n",
      "data    = dataAll[['title', 'created_at', 'labels', 'closed_at', 'user', 'id']] #cut out only columns of interest"
     ],
     "language": "python",
     "metadata": {},
     "outputs": [],
     "prompt_number": 21
    },
    {
     "cell_type": "markdown",
     "metadata": {},
     "source": [
      "Part 2\n",
      "---\n",
      "Transform the user values to be simply the 'login' string, so that the user\n",
      "column contains only string usernames."
     ]
    },
    {
     "cell_type": "code",
     "collapsed": false,
     "input": [
      "data.user[0]"
     ],
     "language": "python",
     "metadata": {},
     "outputs": [
      {
       "metadata": {},
       "output_type": "pyout",
       "prompt_number": 23,
       "text": [
        "{u'avatar_url': u'https://secure.gravatar.com/avatar/2c08a3eed709a9d1a2654cea45aa466f?d=https://a248.e.akamai.net/assets.github.com%2Fimages%2Fgravatars%2Fgravatar-user-420.png',\n",
        " u'events_url': u'https://api.github.com/users/wesm/events{/privacy}',\n",
        " u'followers_url': u'https://api.github.com/users/wesm/followers',\n",
        " u'following_url': u'https://api.github.com/users/wesm/following',\n",
        " u'gists_url': u'https://api.github.com/users/wesm/gists{/gist_id}',\n",
        " u'gravatar_id': u'2c08a3eed709a9d1a2654cea45aa466f',\n",
        " u'html_url': u'https://github.com/wesm',\n",
        " u'id': 329591,\n",
        " u'login': u'wesm',\n",
        " u'organizations_url': u'https://api.github.com/users/wesm/orgs',\n",
        " u'received_events_url': u'https://api.github.com/users/wesm/received_events',\n",
        " u'repos_url': u'https://api.github.com/users/wesm/repos',\n",
        " u'starred_url': u'https://api.github.com/users/wesm/starred{/owner}{/repo}',\n",
        " u'subscriptions_url': u'https://api.github.com/users/wesm/subscriptions',\n",
        " u'type': u'User',\n",
        " u'url': u'https://api.github.com/users/wesm'}"
       ]
      }
     ],
     "prompt_number": 23
    },
    {
     "cell_type": "markdown",
     "metadata": {},
     "source": [
      "Part 3\n",
      "---\n",
      "Remove duplicate rows by id from the DataFrame you just created using the id\n",
      "column's duplicated method."
     ]
    },
    {
     "cell_type": "code",
     "collapsed": false,
     "input": [],
     "language": "python",
     "metadata": {},
     "outputs": []
    },
    {
     "cell_type": "markdown",
     "metadata": {},
     "source": [
      "Part 4\n",
      "---\n",
      "Convert the ``created_at`` and ``closed_at columns`` from string to datetime type."
     ]
    },
    {
     "cell_type": "code",
     "collapsed": false,
     "input": [],
     "language": "python",
     "metadata": {},
     "outputs": []
    },
    {
     "cell_type": "markdown",
     "metadata": {},
     "source": [
      "Part 5\n",
      "---\n",
      "Now construct appropriate time series and pandas functions to make the\n",
      "following plots:\n",
      "\n",
      "- Number of issues created by month\n",
      "\n",
      "- Number of distinct users creating issues each month (hint: you can pass a function to resample's how argument, and there's nothing wrong with having string values in a TimeSeries)"
     ]
    },
    {
     "cell_type": "code",
     "collapsed": false,
     "input": [],
     "language": "python",
     "metadata": {},
     "outputs": []
    },
    {
     "cell_type": "markdown",
     "metadata": {},
     "source": [
      "Part 6\n",
      "---\n",
      "Make a table and an accompanying plot illustrating:\n",
      "\n",
      "- The mean number of days it took for issues to be closed by the month they were opened. In other words, for closed issues created in August 2012, how long were they open on average?\n",
      "- Hint: use the ``total_seconds`` function on the timedelta objects computed when subtracting datetime objects.\n",
      "- Also show the number of issues in each month in the table."
     ]
    },
    {
     "cell_type": "code",
     "collapsed": false,
     "input": [],
     "language": "python",
     "metadata": {},
     "outputs": []
    },
    {
     "cell_type": "markdown",
     "metadata": {},
     "source": [
      "Part 7\n",
      "---\n",
      "Make a DataFrame containing all the comments for all of the issues. You will\n",
      "want to add an ``id`` attribute to each comment while doing so so that each row\n",
      "contains a single comment and has the id of the issue it belongs to.\n",
      "\n",
      "Convert the ``created`` column to datetime format; note you will need to multiply\n",
      "the values (appropriately converted to integers) by 1000000 to get them in\n",
      "nanoseconds and pass to `to_datetime`."
     ]
    },
    {
     "cell_type": "code",
     "collapsed": false,
     "input": [],
     "language": "python",
     "metadata": {},
     "outputs": []
    },
    {
     "cell_type": "markdown",
     "metadata": {},
     "source": [
      "Part 8\n",
      "---\n",
      "For each month, compute a table summarizing the following for each month:\n",
      "\n",
      "- Total number of issue comments\n",
      "- The \"chattiest\" user (most number of comments)\n",
      "- The percentage of total comments made by the chattiest users\n",
      "- The number of distinct participants in the issue comments"
     ]
    },
    {
     "cell_type": "code",
     "collapsed": false,
     "input": [],
     "language": "python",
     "metadata": {},
     "outputs": []
    },
    {
     "cell_type": "markdown",
     "metadata": {},
     "source": [
      "Part 9\n",
      "---\n",
      "Create a helper ``labels`` table from the issues data with two columns: id and\n",
      "label. If an issue has 3 elements in its 'labels' value, add 3 rows to the\n",
      "table. If an issue does not have any labels, place a single row with None as\n",
      "the label (hint: construct a list of tuples, then make the DataFrame)."
     ]
    },
    {
     "cell_type": "code",
     "collapsed": false,
     "input": [],
     "language": "python",
     "metadata": {},
     "outputs": []
    },
    {
     "cell_type": "markdown",
     "metadata": {},
     "source": [
      "Part 10\n",
      "---\n",
      "Now, join the issues data with the labels helper table (pandas.merge). Add\n",
      "a column to this table containing the number of days (as a floating point\n",
      "number) it took to close each issue."
     ]
    },
    {
     "cell_type": "code",
     "collapsed": false,
     "input": [],
     "language": "python",
     "metadata": {},
     "outputs": []
    },
    {
     "cell_type": "markdown",
     "metadata": {},
     "source": [
      "Part 11\n",
      "---\n",
      "Compute a table containing the average time to close for each label\n",
      "type. Now make a plot comparing mean time to close by month for Enhancement\n",
      "versus Bug issue types."
     ]
    },
    {
     "cell_type": "code",
     "collapsed": false,
     "input": [],
     "language": "python",
     "metadata": {},
     "outputs": []
    }
   ],
   "metadata": {}
  }
 ]
}